{
 "cells": [
  {
   "cell_type": "markdown",
   "metadata": {},
   "source": [
    "When I write '-----------' it means that I am about to write what is not going to go in the script, and when I write '________' it means that I stop writing what is not going to go in the script"
   ]
  },
  {
   "cell_type": "code",
   "execution_count": 8,
   "metadata": {},
   "outputs": [
    {
     "data": {
      "text/plain": [
       "'_________'"
      ]
     },
     "execution_count": 8,
     "metadata": {},
     "output_type": "execute_result"
    }
   ],
   "source": [
    "import requests\n",
    "from bs4 import BeautifulSoup as bs\n",
    "import random\n",
    "import time\n",
    "import pandas as pd\n",
    "from selenium import webdriver\n",
    "from selenium.webdriver.common.by import By\n",
    "from selenium.webdriver.common.keys import Keys\n",
    "import undetected_chromedriver as uc\n",
    "'--------'\n",
    "import traceback\n",
    "'_________'\n",
    "\n"
   ]
  },
  {
   "cell_type": "code",
   "execution_count": 4,
   "metadata": {},
   "outputs": [],
   "source": [
    "browser = webdriver.Chrome() "
   ]
  },
  {
   "cell_type": "code",
   "execution_count": null,
   "metadata": {},
   "outputs": [],
   "source": [
    "page_number = 1\n",
    "number_iteration=1\n",
    "ids_cell_phones = []\n",
    "\n",
    "\n",
    "\n",
    "'''I execute the infinite while loop that will stop when it no longer detects any more pages \n",
    "with products within the loop, mainly the identifier of each cell phone will be obtained and \n",
    "it will be stored in ids_cell_phones.'''\n",
    "\n",
    "while True:\n",
    "\n",
    "    url = f'https://tienda.claro.com.ar/plp/equipos?pageNumber={page_number}'\n",
    "\n",
    "    browser.get(url)\n",
    "\n",
    "    time.sleep(random.randint(8,10))\n",
    "\n",
    "\n",
    "    '''I try to click on a cookie acceptance element if it is present.'''\n",
    "    try:\n",
    "        browser.find_element('xpath', '//*[@id=\"didomi-notice-agree-button\"]').click()\n",
    "    except:\n",
    "        pass\n",
    "        \n",
    "    html = browser.page_source\n",
    "\n",
    "    soup = bs(html , 'lxml')\n",
    "\n",
    "    final_page = int(soup.find('div',{'class':'Pagination_cont__28-ql'}).find_all('div',{'class': 'Pagination_number__3cAx4'})[-1].text)\n",
    "    \n",
    "\n",
    "    if page_number > final_page:        \n",
    "        break\n",
    "\n",
    "    page_number += 1\n",
    "\n",
    "\n",
    "    articles = soup.find('div', {'class': 'Catalog_cont-fil-items__31RhA Catalog_filters-on__2NU5y'}).find('div', {'class': 'Catalog_items__3tiDK Catalog_grillax3__1AkL4'}).find_all('div', {'class': 'CardProducto_cont-sin-comparar__P90uJ'})\n",
    "\n",
    "    for article in articles:\n",
    "        cell_phone_id = article.find('a').get('href')\n",
    "\n",
    "        ids_cell_phones.append(cell_phone_id)\n",
    "      \n",
    "        #print(article.find('a').get('href'))\n",
    "\n",
    "ids_cell_phones = [phone for phone in ids_cell_phones if phone is not None]\n",
    "\n",
    "\n"
   ]
  },
  {
   "cell_type": "code",
   "execution_count": 12,
   "metadata": {},
   "outputs": [
    {
     "name": "stdout",
     "output_type": "stream",
     "text": [
      "Total number of cell phones: 50\n"
     ]
    }
   ],
   "source": [
    "print('Total number of cell phones:', len(ids_cell_phones))"
   ]
  },
  {
   "cell_type": "code",
   "execution_count": null,
   "metadata": {},
   "outputs": [],
   "source": [
    "\n",
    "\n",
    "data = {\n",
    "    'url/id': [],\n",
    "    'error': []\n",
    "}\n",
    "\n",
    "critical_errors = pd.DataFrame(data)\n",
    "errors_founds = pd.Series()\n",
    "\n",
    "claro_cell_phones = pd.Series()\n",
    "\n",
    "'''I define the function parce_cell_phones that takes a cell phone identifier \n",
    "as an argument and extracts detailed information about that phone from its individual page.'''\n",
    "\n",
    "def parse_cell_phones(cell_phone_id):\n",
    "    \n",
    "    \n",
    "    url = f'https://tienda.claro.com.ar{cell_phone_id}'\n",
    "    #print('Direcciòn: ',url)\n",
    "\n",
    "    try:\n",
    "        browser.get(url)\n",
    "\n",
    "        time.sleep(random.randint(5,12))\n",
    "\n",
    "        html = browser.page_source\n",
    "\n",
    "        soup = bs(html, 'lxml')\n",
    "\n",
    "    \n",
    "        model = soup.find('h1',{'data-test':'product_title'}).text\n",
    "\n",
    "        price = int(soup.find('div', {'data-test': 'product_information'}).find('div',{'data-test':'product_prices'}).text.replace('$','').replace('.',''))\n",
    "\n",
    "\n",
    "        especifications_1 = soup.find('div', {'class': 'Pdp_divFlexEspecificaciones__1ote3'}).find_all('div', {'class': 'Pdp_divIconFlex__3Hi6N'})\n",
    "        especifications_2 = soup.find('div', {'class': 'Pdp_divTableEspecificaciones__3-bXX'}).find_all('div', {'class':'Pdp_divFlex__1AwU4'})\n",
    "\n",
    "    except:\n",
    "        '-----------'\n",
    "        errors_founds['url/id'] = url\n",
    "        errors_founds['error'] = traceback.format_exc()\n",
    "        df_errors_founds = pd.DataFrame(errors_founds)\n",
    "        global critical_errors\n",
    "        critical_errors = pd.concat([critical_errors, df_errors_founds.T])\n",
    "        '_________'\n",
    "        return None\n",
    "\n",
    "\n",
    "    ram = None\n",
    "    camera = None\n",
    "    processor = None\n",
    "    storege = None\n",
    "    screen = None\n",
    "\n",
    "    for div in especifications_1:\n",
    "        \n",
    "            momentary_text = div.text.lower()\n",
    "\n",
    "            if 'cámara' in momentary_text:\n",
    "                try:\n",
    "                    camera = ' / Trasera '+ div.find('div', {'class':'Pdp_descriptionImg__2wfms'}).text\n",
    "                except:\n",
    "                    pass\n",
    "                    \n",
    "            elif 'display' in momentary_text:\n",
    "                try:\n",
    "                    screen = div.find('div', {'class':'Pdp_descriptionImg__2wfms'}).text\n",
    "                except:\n",
    "                      pass\n",
    "            \n",
    "            elif 'procesador' in momentary_text:\n",
    "                    try:\n",
    "                        processor = div.find('div', {'class':'Pdp_descriptionImg__2wfms'}).text\n",
    "                    except:\n",
    "                        pass\n",
    "\n",
    "\n",
    "\n",
    "    \n",
    "\n",
    "    for div in especifications_2:\n",
    "            momentary_text = div.text.lower()\n",
    "\n",
    "            if 'cámara' in   momentary_text:\n",
    "                try:\n",
    "                    camera = 'Frontal ' + div.find('div',{'class':'Pdp_divDescripcion__36s2x'}).text + camera\n",
    "                except:\n",
    "                    pass\n",
    "\n",
    "            elif 'ram' in momentary_text:\n",
    "                try:\n",
    "                    ram =  div.find('div',{'class':'Pdp_divDescripcion__36s2x'}).text\n",
    "                except:\n",
    "                    pass\n",
    "\n",
    "            elif 'memoria interna' in momentary_text:\n",
    "                try:\n",
    "                    storege =  div.find('div',{'class':'Pdp_divDescripcion__36s2x'}).text\n",
    "                except:\n",
    "                    pass\n",
    "\n",
    "    '-----------'\n",
    "    if None in [ram, camera, processor, storege, screen]:\n",
    "        errors = url\n",
    "    else:\n",
    "        errors = None\n",
    "    '___________'\n",
    "\n",
    "    claro_cell_phones['company'] = 'Claro'\n",
    "\n",
    "    claro_cell_phones['model'] = model\n",
    "    \n",
    "    claro_cell_phones['price'] = price\n",
    "\n",
    "    claro_cell_phones['ram'] = ram\n",
    "    \n",
    "    claro_cell_phones['processor'] = processor\n",
    "    \n",
    "    claro_cell_phones['storege'] = storege\n",
    "    \n",
    "    claro_cell_phones['camera'] = camera\n",
    "    \n",
    "    claro_cell_phones['screen'] = screen\n",
    "\n",
    "    '--------'\n",
    "    claro_cell_phones['errors'] = errors\n",
    "    '________'\n",
    "\n",
    "    df_claro_cell_phones = pd.DataFrame(claro_cell_phones)\n",
    "\n",
    "    return (df_claro_cell_phones.T)\n"
   ]
  },
  {
   "cell_type": "code",
   "execution_count": 26,
   "metadata": {},
   "outputs": [
    {
     "name": "stdout",
     "output_type": "stream",
     "text": [
      "Progress 1 of 50\n",
      "Progress 2 of 50\n",
      "Progress 3 of 50\n",
      "Progress 4 of 50\n",
      "Progress 5 of 50\n",
      "Progress 6 of 50\n",
      "Progress 7 of 50\n",
      "Progress 8 of 50\n",
      "Progress 9 of 50\n",
      "Progress 10 of 50\n",
      "Progress 11 of 50\n",
      "Progress 12 of 50\n",
      "Progress 13 of 50\n",
      "Progress 14 of 50\n",
      "Progress 15 of 50\n",
      "Progress 16 of 50\n",
      "Progress 17 of 50\n",
      "Progress 18 of 50\n",
      "Progress 19 of 50\n",
      "Progress 20 of 50\n",
      "Progress 21 of 50\n",
      "Progress 22 of 50\n",
      "Progress 23 of 50\n",
      "Progress 24 of 50\n",
      "Progress 25 of 50\n",
      "Progress 26 of 50\n",
      "Progress 27 of 50\n",
      "Progress 28 of 50\n",
      "Progress 29 of 50\n",
      "Progress 30 of 50\n",
      "Progress 31 of 50\n",
      "Progress 32 of 50\n",
      "Progress 33 of 50\n",
      "Progress 34 of 50\n",
      "Progress 35 of 50\n",
      "Progress 36 of 50\n",
      "Progress 37 of 50\n",
      "Progress 38 of 50\n",
      "Progress 39 of 50\n",
      "Progress 40 of 50\n",
      "Progress 41 of 50\n",
      "Progress 42 of 50\n",
      "Progress 43 of 50\n",
      "Progress 44 of 50\n",
      "Progress 45 of 50\n",
      "Progress 46 of 50\n",
      "Progress 47 of 50\n",
      "Progress 48 of 50\n",
      "Progress 49 of 50\n",
      "Progress 50 of 50\n",
      "Number of records obtained:  49\n",
      "Number of serious errors found:  1\n",
      "Number of null data found:  0\n",
      "extraction completed\n"
     ]
    }
   ],
   "source": [
    "'''I create a for loop to iterate through the cell phone identifiers, call the pare_cell_phones function with \n",
    "each identifier, and add the results to the df_claro_cell_phones DataFrame.'''\n",
    "\n",
    "df_claro_cell_phones = pd.DataFrame()\n",
    "\n",
    "for i in range(len(ids_cell_phones)):\n",
    "    try:\n",
    "        df_claro_cell_phones = pd.concat([df_claro_cell_phones, parse_cell_phones(ids_cell_phones[i])])\n",
    "    except:\n",
    "        pass\n",
    "\n",
    "    if len(critical_errors) > 10:\n",
    "            print('Extraction stopped, to many errors')\n",
    "            break\n",
    "\n",
    "    print(f'Progress {i+1} of {len(ids_cell_phones)}')\n",
    "\n",
    "    time.sleep(random.randint(4,8))\n",
    "\n",
    "#browser.quit()\n",
    "\n",
    "df_claro_cell_phones.to_csv('celulares_personal.csv', index = False)\n",
    "\n",
    "print('Number of records obtained: ', len(df_claro_cell_phones))\n",
    "\n",
    "print('Number of critical errors found: ', len(critical_errors))\n",
    "\n",
    "print('Number of null data found: ',df_claro_cell_phones.iloc[:,:7].isnull().sum().sum())\n",
    "\n",
    "print('extraction completed')"
   ]
  },
  {
   "cell_type": "code",
   "execution_count": null,
   "metadata": {},
   "outputs": [],
   "source": [
    "df_claro_cell_phones"
   ]
  },
  {
   "cell_type": "code",
   "execution_count": 24,
   "metadata": {},
   "outputs": [
    {
     "data": {
      "text/plain": [
       "48"
      ]
     },
     "execution_count": 24,
     "metadata": {},
     "output_type": "execute_result"
    }
   ],
   "source": [
    "len(df_claro_cell_phones)"
   ]
  },
  {
   "cell_type": "code",
   "execution_count": 29,
   "metadata": {},
   "outputs": [
    {
     "data": {
      "text/plain": [
       "'https://tienda.claro.com.ar/pdp/equipos/samsung-galaxy-z-fold5-5g-256gb'"
      ]
     },
     "execution_count": 29,
     "metadata": {},
     "output_type": "execute_result"
    }
   ],
   "source": [
    "critical_errors['url/id'].iloc[0]"
   ]
  },
  {
   "cell_type": "code",
   "execution_count": 32,
   "metadata": {},
   "outputs": [
    {
     "name": "stdout",
     "output_type": "stream",
     "text": [
      "Traceback (most recent call last):\n",
      "  File \"/tmp/ipykernel_5808/301661863.py\", line 32, in parse_cell_phones\n",
      "    model = soup.find('h1',{'data-test':'product_title'}).text\n",
      "AttributeError: 'NoneType' object has no attribute 'text'\n",
      "\n"
     ]
    }
   ],
   "source": [
    "print(critical_errors['error'].iloc[0])"
   ]
  }
 ],
 "metadata": {
  "kernelspec": {
   "display_name": "Python 3",
   "language": "python",
   "name": "python3"
  },
  "language_info": {
   "codemirror_mode": {
    "name": "ipython",
    "version": 3
   },
   "file_extension": ".py",
   "mimetype": "text/x-python",
   "name": "python",
   "nbconvert_exporter": "python",
   "pygments_lexer": "ipython3",
   "version": "3.10.12"
  },
  "orig_nbformat": 4
 },
 "nbformat": 4,
 "nbformat_minor": 2
}
